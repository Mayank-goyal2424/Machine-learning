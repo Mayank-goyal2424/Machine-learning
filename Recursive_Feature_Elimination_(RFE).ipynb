{
  "nbformat": 4,
  "nbformat_minor": 0,
  "metadata": {
    "colab": {
      "name": "Recursive_Feature_Elimination_(RFE).ipynb",
      "provenance": [],
      "authorship_tag": "ABX9TyMbdn//UMmWiUqnQvzJXl9A",
      "include_colab_link": true
    },
    "kernelspec": {
      "name": "python3",
      "display_name": "Python 3"
    }
  },
  "cells": [
    {
      "cell_type": "markdown",
      "metadata": {
        "id": "view-in-github",
        "colab_type": "text"
      },
      "source": [
        "<a href=\"https://colab.research.google.com/github/Mayank-goyal2424/Machine-learning/blob/master/Recursive_Feature_Elimination_(RFE).ipynb\" target=\"_parent\"><img src=\"https://colab.research.google.com/assets/colab-badge.svg\" alt=\"Open In Colab\"/></a>"
      ]
    },
    {
      "cell_type": "code",
      "metadata": {
        "id": "zq_jmj6cAjg_",
        "colab_type": "code",
        "colab": {
          "base_uri": "https://localhost:8080/",
          "height": 33
        },
        "outputId": "0373b37d-fd1f-4723-8825-172a3b60a076"
      },
      "source": [
        "\n",
        "# check scikit-learn version\n",
        "import sklearn\n",
        "print(sklearn.__version__)\n"
      ],
      "execution_count": 1,
      "outputs": [
        {
          "output_type": "stream",
          "text": [
            "0.22.2.post1\n"
          ],
          "name": "stdout"
        }
      ]
    },
    {
      "cell_type": "code",
      "metadata": {
        "id": "-FQQ0jq8ApJX",
        "colab_type": "code",
        "colab": {
          "base_uri": "https://localhost:8080/",
          "height": 33
        },
        "outputId": "43e82f27-da04-4c93-c5e2-db4882ee2842"
      },
      "source": [
        "\n",
        "# automatically select the number of features for RFE\n",
        "from numpy import mean\n",
        "from numpy import std\n",
        "from sklearn.datasets import make_classification\n",
        "from sklearn.model_selection import cross_val_score\n",
        "from sklearn.model_selection import RepeatedStratifiedKFold\n",
        "from sklearn.feature_selection import RFECV\n",
        "from sklearn.tree import DecisionTreeClassifier\n",
        "from sklearn.pipeline import Pipeline\n",
        "# define dataset\n",
        "X, y = make_classification(n_samples=1000, n_features=10, n_informative=5, n_redundant=5, random_state=1)\n",
        "# create pipeline\n",
        "rfe = RFECV(estimator=DecisionTreeClassifier())\n",
        "model = DecisionTreeClassifier()\n",
        "pipeline = Pipeline(steps=[('s',rfe),('m',model)])\n",
        "# evaluate model\n",
        "cv = RepeatedStratifiedKFold(n_splits=10, n_repeats=3, random_state=1)\n",
        "n_scores = cross_val_score(pipeline, X, y, scoring='accuracy', cv=cv, n_jobs=-1, error_score='raise')\n",
        "# report performance\n",
        "print('Accuracy: %.3f (%.3f)' % (mean(n_scores), std(n_scores)))"
      ],
      "execution_count": 2,
      "outputs": [
        {
          "output_type": "stream",
          "text": [
            "Accuracy: 0.886 (0.023)\n"
          ],
          "name": "stdout"
        }
      ]
    },
    {
      "cell_type": "code",
      "metadata": {
        "id": "zHO71CXfDMaP",
        "colab_type": "code",
        "colab": {
          "base_uri": "https://localhost:8080/",
          "height": 184
        },
        "outputId": "2efcecf7-9b2f-4ddb-b0c9-5c6909b168a1"
      },
      "source": [
        "# report which features were selected by RFE\n",
        "from sklearn.datasets import make_classification\n",
        "from sklearn.feature_selection import RFE\n",
        "from sklearn.tree import DecisionTreeClassifier\n",
        "# define dataset\n",
        "X, y = make_classification(n_samples=1000, n_features=10, n_informative=5, n_redundant=5, random_state=1)\n",
        "# define RFE\n",
        "rfe = RFE(estimator=DecisionTreeClassifier(), n_features_to_select=5)\n",
        "# fit RFE\n",
        "rfe.fit(X, y)\n",
        "# summarize all features\n",
        "for i in range(X.shape[1]):\n",
        "\tprint('Column: %d, Selected %s, Rank: %.3f' % (i, rfe.support_[i], rfe.ranking_[i]))"
      ],
      "execution_count": 3,
      "outputs": [
        {
          "output_type": "stream",
          "text": [
            "Column: 0, Selected False, Rank: 4.000\n",
            "Column: 1, Selected False, Rank: 6.000\n",
            "Column: 2, Selected True, Rank: 1.000\n",
            "Column: 3, Selected True, Rank: 1.000\n",
            "Column: 4, Selected True, Rank: 1.000\n",
            "Column: 5, Selected False, Rank: 5.000\n",
            "Column: 6, Selected True, Rank: 1.000\n",
            "Column: 7, Selected False, Rank: 2.000\n",
            "Column: 8, Selected True, Rank: 1.000\n",
            "Column: 9, Selected False, Rank: 3.000\n"
          ],
          "name": "stdout"
        }
      ]
    },
    {
      "cell_type": "code",
      "metadata": {
        "id": "IKRF0ju9DN07",
        "colab_type": "code",
        "colab": {
          "base_uri": "https://localhost:8080/",
          "height": 348
        },
        "outputId": "bc6ead34-a1f9-4bf2-e8b4-a97698402426"
      },
      "source": [
        "# explore the algorithm wrapped by RFE\n",
        "from numpy import mean\n",
        "from numpy import std\n",
        "from sklearn.datasets import make_classification\n",
        "from sklearn.model_selection import cross_val_score\n",
        "from sklearn.model_selection import RepeatedStratifiedKFold\n",
        "from sklearn.feature_selection import RFE\n",
        "from sklearn.linear_model import LogisticRegression\n",
        "from sklearn.linear_model import Perceptron\n",
        "from sklearn.tree import DecisionTreeClassifier\n",
        "from sklearn.ensemble import RandomForestClassifier\n",
        "from sklearn.ensemble import GradientBoostingClassifier\n",
        "from sklearn.pipeline import Pipeline\n",
        "from matplotlib import pyplot\n",
        " \n",
        "# get the dataset\n",
        "def get_dataset():\n",
        "\tX, y = make_classification(n_samples=1000, n_features=10, n_informative=5, n_redundant=5, random_state=1)\n",
        "\treturn X, y\n",
        " \n",
        "# get a list of models to evaluate\n",
        "def get_models():\n",
        "\tmodels = dict()\n",
        "\t# lr\n",
        "\trfe = RFE(estimator=LogisticRegression(), n_features_to_select=5)\n",
        "\tmodel = DecisionTreeClassifier()\n",
        "\tmodels['lr'] = Pipeline(steps=[('s',rfe),('m',model)])\n",
        "\t# perceptron\n",
        "\trfe = RFE(estimator=Perceptron(), n_features_to_select=5)\n",
        "\tmodel = DecisionTreeClassifier()\n",
        "\tmodels['per'] = Pipeline(steps=[('s',rfe),('m',model)])\n",
        "\t# cart\n",
        "\trfe = RFE(estimator=DecisionTreeClassifier(), n_features_to_select=5)\n",
        "\tmodel = DecisionTreeClassifier()\n",
        "\tmodels['cart'] = Pipeline(steps=[('s',rfe),('m',model)])\n",
        "\t# rf\n",
        "\trfe = RFE(estimator=RandomForestClassifier(), n_features_to_select=5)\n",
        "\tmodel = DecisionTreeClassifier()\n",
        "\tmodels['rf'] = Pipeline(steps=[('s',rfe),('m',model)])\n",
        "\t# gbm\n",
        "\trfe = RFE(estimator=GradientBoostingClassifier(), n_features_to_select=5)\n",
        "\tmodel = DecisionTreeClassifier()\n",
        "\tmodels['gbm'] = Pipeline(steps=[('s',rfe),('m',model)])\n",
        "\treturn models\n",
        " \n",
        "# evaluate a give model using cross-validation\n",
        "def evaluate_model(model):\n",
        "\tcv = RepeatedStratifiedKFold(n_splits=10, n_repeats=3, random_state=1)\n",
        "\tscores = cross_val_score(model, X, y, scoring='accuracy', cv=cv, n_jobs=-1)\n",
        "\treturn scores\n",
        " \n",
        "# define dataset\n",
        "X, y = get_dataset()\n",
        "# get the models to evaluate\n",
        "models = get_models()\n",
        "# evaluate the models and store results\n",
        "results, names = list(), list()\n",
        "for name, model in models.items():\n",
        "\tscores = evaluate_model(model)\n",
        "\tresults.append(scores)\n",
        "\tnames.append(name)\n",
        "\tprint('>%s %.3f (%.3f)' % (name, mean(scores), std(scores)))\n",
        "# plot model performance for comparison\n",
        "pyplot.boxplot(results, labels=names, showmeans=True)\n",
        "pyplot.show()"
      ],
      "execution_count": 4,
      "outputs": [
        {
          "output_type": "stream",
          "text": [
            ">lr 0.888 (0.034)\n",
            ">per 0.843 (0.036)\n",
            ">cart 0.888 (0.034)\n",
            ">rf 0.855 (0.039)\n",
            ">gbm 0.889 (0.030)\n"
          ],
          "name": "stdout"
        },
        {
          "output_type": "display_data",
          "data": {
            "image/png": "[encoded data removed]",
            "text/plain": [
              "<Figure size 432x288 with 1 Axes>"
            ]
          },
          "metadata": {
            "tags": [],
            "needs_background": "light"
          }
        }
      ]
    },
    {
      "cell_type": "code",
      "metadata": {
        "id": "_vsIxC4QEFdf",
        "colab_type": "code",
        "colab": {}
      },
      "source": [
        ""
      ],
      "execution_count": 0,
      "outputs": []
    }
  ]
}